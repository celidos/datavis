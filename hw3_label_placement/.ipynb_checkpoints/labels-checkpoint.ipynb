{
 "cells": [
  {
   "cell_type": "markdown",
   "id": "precious-damages",
   "metadata": {},
   "source": [
    "Поконечный Эдуард, М05-014г\n",
    "\n",
    "Визуализация данных\n",
    "\n",
    "Задание 3 - Label Placement"
   ]
  },
  {
   "cell_type": "markdown",
   "id": "ordinary-packing",
   "metadata": {},
   "source": [
    "# preparation"
   ]
  },
  {
   "cell_type": "code",
   "execution_count": 320,
   "id": "going-flood",
   "metadata": {},
   "outputs": [
    {
     "name": "stdout",
     "output_type": "stream",
     "text": [
      "Requirement already satisfied: python-sat in /home/lambert/anaconda3/envs/ds_venv/lib/python3.8/site-packages (0.1.7.dev2)\n",
      "Requirement already satisfied: six in /home/lambert/anaconda3/envs/ds_venv/lib/python3.8/site-packages (from python-sat) (1.15.0)\n"
     ]
    }
   ],
   "source": [
    "!pip install python-sat"
   ]
  },
  {
   "cell_type": "code",
   "execution_count": 321,
   "id": "private-speaking",
   "metadata": {},
   "outputs": [],
   "source": [
    "import numpy as np\n",
    "from matplotlib import pyplot as plt\n",
    "from pysat.solvers import Solver\n",
    "\n",
    "import requests\n",
    "import IPython.display as Disp"
   ]
  },
  {
   "cell_type": "markdown",
   "id": "superb-partition",
   "metadata": {},
   "source": [
    "# parse"
   ]
  },
  {
   "cell_type": "markdown",
   "id": "announced-bookmark",
   "metadata": {},
   "source": [
    "(from telegram chat)"
   ]
  },
  {
   "cell_type": "code",
   "execution_count": 322,
   "id": "minimal-percentage",
   "metadata": {},
   "outputs": [],
   "source": [
    "class Pos:\n",
    "    def __init__(self, *arr):\n",
    "        assert len(arr) == 2\n",
    "        self.xy = arr\n",
    "    \n",
    "    def __add__(self, that):\n",
    "        return Pos(*[a + b for a, b in zip(self.xy, that.xy)])\n",
    "    \n",
    "    def __sub__(self, that):\n",
    "        return Pos(*[a - b for a, b in zip(self.xy, that.xy)])\n",
    "    \n",
    "    def __neg__(self):\n",
    "        return Pos(*[-a for a in self.xy])\n",
    "    \n",
    "    def __str__(self):\n",
    "        return str(self.xy)\n",
    "    \n",
    "    def __repr__(self):\n",
    "        return str(self)\n",
    "    \n",
    "    def parse(s):\n",
    "        arr = [int(a) for a in s.split(',')]\n",
    "        return Pos(*arr)\n",
    "\n",
    "\n",
    "class Box:\n",
    "    def __init__(self, line=None):\n",
    "        arr = line.split('\\t')\n",
    "        self.pos = Pos.parse(arr[0])\n",
    "        self.size = Pos.parse(arr[1])\n",
    "        self.offsets = [Pos.parse(pos) for pos in arr[2].split(' ')]\n",
    "        assert len(self.offsets) > 0\n",
    "    \n",
    "    def __str__(self):\n",
    "        return 'Box(pos={}, size={}, offsets={})'.format(self.pos, self.size, self.offsets)\n",
    "    \n",
    "    def __repr__(self):\n",
    "        return str(self)"
   ]
  },
  {
   "cell_type": "code",
   "execution_count": 323,
   "id": "optimum-browser",
   "metadata": {},
   "outputs": [],
   "source": [
    "def parse_file(path, verbose=False):\n",
    "    with open(path, 'r') as f:\n",
    "        data = f.read()\n",
    "        boxes = [Box(line) for line in data.strip().split('\\n')]\n",
    "        \n",
    "    if verbose:\n",
    "        for box in boxes:\n",
    "            print(box)\n",
    "            \n",
    "    return boxes"
   ]
  },
  {
   "cell_type": "code",
   "execution_count": 324,
   "id": "affecting-champagne",
   "metadata": {},
   "outputs": [
    {
     "name": "stdout",
     "output_type": "stream",
     "text": [
      "Box(pos=(20, 20), size=(10, 10), offsets=[(0, 0), (10, 0), (0, 10), (10, 10)])\n",
      "Box(pos=(20, 25), size=(10, 10), offsets=[(0, 0), (10, 0), (0, 10), (10, 10)])\n",
      "Box(pos=(25, 20), size=(10, 10), offsets=[(0, 0), (10, 0), (0, 10), (10, 10)])\n",
      "Box(pos=(25, 25), size=(10, 10), offsets=[(0, 0), (10, 0), (0, 10), (10, 10)])\n",
      "Box(pos=(20, 60), size=(10, 10), offsets=[(0, 0), (10, 0), (0, 10), (10, 10)])\n",
      "Box(pos=(20, 65), size=(10, 10), offsets=[(0, 0), (10, 0), (0, 10), (10, 10)])\n",
      "Box(pos=(25, 60), size=(10, 10), offsets=[(0, 0), (10, 0), (0, 10), (10, 10)])\n",
      "Box(pos=(25, 65), size=(10, 10), offsets=[(0, 0), (10, 0), (0, 10), (10, 10)])\n",
      "Box(pos=(60, 20), size=(10, 10), offsets=[(0, 0), (10, 0), (0, 10), (10, 10)])\n",
      "Box(pos=(60, 25), size=(10, 10), offsets=[(0, 0), (10, 0), (0, 10), (10, 10)])\n",
      "Box(pos=(65, 20), size=(10, 10), offsets=[(0, 0), (10, 0), (0, 10), (10, 10)])\n",
      "Box(pos=(65, 25), size=(10, 10), offsets=[(0, 0), (10, 0), (0, 10), (10, 10)])\n",
      "Box(pos=(60, 60), size=(10, 10), offsets=[(0, 0), (10, 0), (0, 10), (10, 10)])\n",
      "Box(pos=(60, 65), size=(10, 10), offsets=[(0, 0), (10, 0), (0, 10), (10, 10)])\n",
      "Box(pos=(65, 60), size=(10, 10), offsets=[(0, 0), (10, 0), (0, 10), (10, 10)])\n",
      "Box(pos=(65, 65), size=(10, 10), offsets=[(0, 0), (10, 0), (0, 10), (10, 10)])\n"
     ]
    }
   ],
   "source": [
    "_ = parse_file('./bricks.txt', True)"
   ]
  },
  {
   "cell_type": "markdown",
   "id": "starting-threshold",
   "metadata": {},
   "source": [
    "# solving"
   ]
  },
  {
   "cell_type": "code",
   "execution_count": 325,
   "id": "pharmaceutical-novel",
   "metadata": {},
   "outputs": [],
   "source": [
    "def segm_intersect(segm1, segm2):\n",
    "    return max(segm1[0], segm2[0]) <= min(segm1[1], segm2[1])"
   ]
  },
  {
   "cell_type": "code",
   "execution_count": 326,
   "id": "veterinary-cotton",
   "metadata": {},
   "outputs": [],
   "source": [
    "class BoxVariant:\n",
    "    def __init__(self, point_id: int, box_id: int, pos, size):\n",
    "        self.point_id = point_id\n",
    "        self.box_id = box_id\n",
    "        self.pos = pos\n",
    "        self.size = size\n",
    "        self.conflicts = set()\n",
    "    \n",
    "    def in_bounds(self, bounds):\n",
    "        bottom_right = self.pos + self.size\n",
    "        if self.pos.xy[0] < 0 or \\\n",
    "            self.pos.xy[1] < 0 or \\\n",
    "            bottom_right.xy[0] > bounds[0] or \\\n",
    "            bottom_right.xy[1] > bounds[1]:\n",
    "            return False\n",
    "\n",
    "        return True\n",
    "    \n",
    "    def intersect(self, box2):\n",
    "        return segm_intersect((self.pos.xy[0], self.pos.xy[0] + self.size.xy[0]), \n",
    "                              (box2.pos.xy[0], box2.pos.xy[0] + box2.size.xy[0])) and\\\n",
    "               segm_intersect((self.pos.xy[1], self.pos.xy[1] + self.size.xy[1]), \n",
    "                              (box2.pos.xy[1], box2.pos.xy[1] + box2.size.xy[1]))\n",
    "    \n",
    "    def add_conflict(self, id: int):\n",
    "        self.conflicts.add(id)\n",
    "        \n",
    "    def __str__(self):\n",
    "        return 'BoxVariant(pos={}, size={}, box_id={}, point_id={})'.format(self.pos, self.size, self.box_id, self.point_id)"
   ]
  },
  {
   "cell_type": "code",
   "execution_count": 327,
   "id": "stone-neighbor",
   "metadata": {},
   "outputs": [],
   "source": [
    "class LabelSolver:\n",
    "    def __init__(self):\n",
    "        pass\n",
    "    \n",
    "    def solve(self, boxes):\n",
    "        self.box_variants = self.__make_box_variants(boxes)\n",
    "        self.__find_conflicts(self.box_variants)\n",
    "        \n",
    "        solver = Solver(name=\"mc\")\n",
    "        \n",
    "        for boxv in self.box_variants:\n",
    "            for conflict in boxv.conflicts:\n",
    "                solver.add_clause([-boxv.box_id, -conflict])\n",
    "        \n",
    "        for k, v in self.point2vars.items():\n",
    "            if v:\n",
    "                solver.add_atmost(v, 1)\n",
    "                solver.add_clause(v)\n",
    "\n",
    "        if solver.solve():\n",
    "            ids = solver.get_model()\n",
    "            ans = [self.box_variants[id - 1] for id in ids if id > 0]\n",
    "            return ans\n",
    "\n",
    "        return None\n",
    "        \n",
    "    def __find_conflicts(self, boxes):\n",
    "        for box1 in boxes:\n",
    "            for box2 in boxes:\n",
    "                if box1.pos.xy == box2.pos.xy:\n",
    "                    continue\n",
    "                    \n",
    "                if box1.point_id == box2.point_id or box1.box_id == box2.box_id:\n",
    "                    continue\n",
    "\n",
    "                if box1.intersect(box2):\n",
    "                    box1.add_conflict(box2.box_id)\n",
    "    \n",
    "    def __make_box_variants(self, boxes):\n",
    "        point_index = 1\n",
    "        box_index = 1\n",
    "        \n",
    "        box_variants = []\n",
    "        self.point2vars = dict()\n",
    "        for box in boxes:\n",
    "            self.point2vars[point_index] = []\n",
    "            for offset in box.offsets:\n",
    "                boxv = BoxVariant(\n",
    "                    point_id=point_index,\n",
    "                    box_id=box_index,\n",
    "                    pos=box.pos - offset,\n",
    "                    size=box.size\n",
    "                )\n",
    "                if boxv.in_bounds((500, 500)):\n",
    "                    box_variants.append(boxv)\n",
    "                    self.point2vars[point_index].append(box_index)\n",
    "                    box_index += 1\n",
    "                          \n",
    "            point_index += 1\n",
    "        return box_variants"
   ]
  },
  {
   "cell_type": "code",
   "execution_count": 328,
   "id": "established-favor",
   "metadata": {},
   "outputs": [],
   "source": [
    "def draw(boxes, solution):\n",
    "    fig = plt.figure(figsize=(15, 15))\n",
    "    ax = fig.add_subplot(1, 1, 1)\n",
    "    x_pts, y_pts = [], []\n",
    "    for box in boxes:\n",
    "        x_pts.append(box.pos.xy[0])\n",
    "        y_pts.append(box.pos.xy[1])\n",
    "        \n",
    "    for box in solution:\n",
    "        ax.add_patch(plt.Rectangle((box.pos.xy[0], box.pos.xy[1]),\n",
    "                                   box.size.xy[0], box.size.xy[1], \n",
    "                                   alpha=0.3, color=np.random.rand(3,)))\n",
    "        \n",
    "    ax.scatter(x_pts, y_pts)\n",
    "    plt.grid()\n",
    "    plt.show()"
   ]
  },
  {
   "cell_type": "code",
   "execution_count": 329,
   "id": "burning-mainstream",
   "metadata": {
    "scrolled": false
   },
   "outputs": [],
   "source": [
    "def render_labels(path_to_txt):\n",
    "    boxes = parse_file(path_to_txt, False)\n",
    "    solution = LabelSolver().solve(boxes)\n",
    "    if solution is not None:\n",
    "        draw(boxes, solution)\n",
    "    else:\n",
    "        url = 'https://en.meming.world/images/en/5/53/Thanos%27_Impossible.jpg'\n",
    "        Disp.Image(requests.get(url).content)"
   ]
  },
  {
   "cell_type": "markdown",
   "id": "oriented-celebrity",
   "metadata": {},
   "source": [
    "# examples"
   ]
  },
  {
   "cell_type": "code",
   "execution_count": 330,
   "id": "geological-pierce",
   "metadata": {},
   "outputs": [
    {
     "data": {
      "image/png": "[encoded data removed]",
      "text/plain": [
       "<Figure size 1080x1080 with 1 Axes>"
      ]
     },
     "metadata": {
      "needs_background": "light"
     },
     "output_type": "display_data"
    }
   ],
   "source": [
    "render_labels('./bricks.txt')"
   ]
  },
  {
   "cell_type": "code",
   "execution_count": 331,
   "id": "clean-roulette",
   "metadata": {},
   "outputs": [
    {
     "data": {
      "image/png": "[encoded data removed]",
      "text/plain": [
       "<Figure size 1080x1080 with 1 Axes>"
      ]
     },
     "metadata": {
      "needs_background": "light"
     },
     "output_type": "display_data"
    }
   ],
   "source": [
    "render_labels('./frame.txt')"
   ]
  },
  {
   "cell_type": "code",
   "execution_count": 332,
   "id": "protected-month",
   "metadata": {},
   "outputs": [
    {
     "data": {
      "image/png": "[encoded data removed]",
      "text/plain": [
       "<Figure size 1080x1080 with 1 Axes>"
      ]
     },
     "metadata": {
      "needs_background": "light"
     },
     "output_type": "display_data"
    }
   ],
   "source": [
    "render_labels('./hard6.txt')"
   ]
  },
  {
   "cell_type": "code",
   "execution_count": 333,
   "id": "front-acrobat",
   "metadata": {},
   "outputs": [
    {
     "data": {
      "image/png": "[encoded data removed]",
      "text/plain": [
       "<Figure size 1080x1080 with 1 Axes>"
      ]
     },
     "metadata": {
      "needs_background": "light"
     },
     "output_type": "display_data"
    }
   ],
   "source": [
    "render_labels('./hard4.txt')"
   ]
  },
  {
   "cell_type": "code",
   "execution_count": null,
   "id": "double-waste",
   "metadata": {},
   "outputs": [],
   "source": []
  },
  {
   "cell_type": "code",
   "execution_count": null,
   "id": "hollywood-hunter",
   "metadata": {},
   "outputs": [],
   "source": []
  },
  {
   "cell_type": "code",
   "execution_count": null,
   "id": "municipal-retrieval",
   "metadata": {},
   "outputs": [],
   "source": []
  }
 ],
 "metadata": {
  "kernelspec": {
   "display_name": "Python 3",
   "language": "python",
   "name": "python3"
  },
  "language_info": {
   "codemirror_mode": {
    "name": "ipython",
    "version": 3
   },
   "file_extension": ".py",
   "mimetype": "text/x-python",
   "name": "python",
   "nbconvert_exporter": "python",
   "pygments_lexer": "ipython3",
   "version": "3.8.3"
  }
 },
 "nbformat": 4,
 "nbformat_minor": 5
}
